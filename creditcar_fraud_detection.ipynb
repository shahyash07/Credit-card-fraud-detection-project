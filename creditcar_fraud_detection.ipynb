{
  "nbformat": 4,
  "nbformat_minor": 0,
  "metadata": {
    "colab": {
      "name": "creditcar_fraud_detection.ipynb",
      "provenance": [],
      "collapsed_sections": [],
      "include_colab_link": true
    },
    "kernelspec": {
      "name": "python3",
      "display_name": "Python 3"
    }
  },
  "cells": [
    {
      "cell_type": "markdown",
      "metadata": {
        "id": "view-in-github",
        "colab_type": "text"
      },
      "source": [
        "<a href=\"https://colab.research.google.com/github/shahyash07/Credit-card-fraud-detection-project/blob/master/creditcar_fraud_detection.ipynb\" target=\"_parent\"><img src=\"https://colab.research.google.com/assets/colab-badge.svg\" alt=\"Open In Colab\"/></a>"
      ]
    },
    {
      "cell_type": "markdown",
      "metadata": {
        "id": "c1me6trttuSS",
        "colab_type": "text"
      },
      "source": [
        "# credit card fraud detection"
      ]
    },
    {
      "cell_type": "markdown",
      "metadata": {
        "id": "0539Pwt1Ygwz",
        "colab_type": "text"
      },
      "source": [
        "\n",
        "random forest, logistic regression and naive \n",
        "Bayes machine learning methods and their implementation\n",
        "\n",
        "Performance of the models are compared using k-fold cross validation for different k values to choose the best model. \n",
        "\n",
        "\n",
        "\n"
      ]
    },
    {
      "cell_type": "code",
      "metadata": {
        "id": "57oB2idEgr-g",
        "colab_type": "code",
        "colab": {}
      },
      "source": [
        "# importing libraries\n",
        "import numpy as np\n",
        "import pandas as pd\n",
        "import sklearn as sk\n",
        "\n",
        "import warnings  # ignoring the warnings\n",
        "warnings.filterwarnings('ignore')"
      ],
      "execution_count": null,
      "outputs": []
    },
    {
      "cell_type": "code",
      "metadata": {
        "id": "RILQWrhjQUtF",
        "colab_type": "code",
        "colab": {
          "base_uri": "https://localhost:8080/",
          "height": 292
        },
        "outputId": "964d51f9-c3b1-44ff-bb3c-56e77b42ad19"
      },
      "source": [
        "# importing data set from drive\n",
        "from google.colab import drive\n",
        "drive.mount('/content/gdrive')\n",
        "\n",
        "input_path = '/content/gdrive/My Drive/'\n",
        "# reading the data (target)\n",
        "target_dataset = pd.read_csv(input_path + 'default of credit card clients.csv')\n",
        "\n",
        "target_dataset.head()"
      ],
      "execution_count": null,
      "outputs": [
        {
          "output_type": "stream",
          "text": [
            "Drive already mounted at /content/gdrive; to attempt to forcibly remount, call drive.mount(\"/content/gdrive\", force_remount=True).\n"
          ],
          "name": "stdout"
        },
        {
          "output_type": "execute_result",
          "data": {
            "text/html": [
              "<div>\n",
              "<style scoped>\n",
              "    .dataframe tbody tr th:only-of-type {\n",
              "        vertical-align: middle;\n",
              "    }\n",
              "\n",
              "    .dataframe tbody tr th {\n",
              "        vertical-align: top;\n",
              "    }\n",
              "\n",
              "    .dataframe thead th {\n",
              "        text-align: right;\n",
              "    }\n",
              "</style>\n",
              "<table border=\"1\" class=\"dataframe\">\n",
              "  <thead>\n",
              "    <tr style=\"text-align: right;\">\n",
              "      <th></th>\n",
              "      <th>ID</th>\n",
              "      <th>X1</th>\n",
              "      <th>X2</th>\n",
              "      <th>X3</th>\n",
              "      <th>X4</th>\n",
              "      <th>X5</th>\n",
              "      <th>X6</th>\n",
              "      <th>X7</th>\n",
              "      <th>X8</th>\n",
              "      <th>X9</th>\n",
              "      <th>X10</th>\n",
              "      <th>X11</th>\n",
              "      <th>X12</th>\n",
              "      <th>X13</th>\n",
              "      <th>X14</th>\n",
              "      <th>X15</th>\n",
              "      <th>X16</th>\n",
              "      <th>X17</th>\n",
              "      <th>X18</th>\n",
              "      <th>X19</th>\n",
              "      <th>X20</th>\n",
              "      <th>X21</th>\n",
              "      <th>X22</th>\n",
              "      <th>X23</th>\n",
              "      <th>Y</th>\n",
              "    </tr>\n",
              "  </thead>\n",
              "  <tbody>\n",
              "    <tr>\n",
              "      <th>0</th>\n",
              "      <td>ID</td>\n",
              "      <td>LIMIT_BAL</td>\n",
              "      <td>SEX</td>\n",
              "      <td>EDUCATION</td>\n",
              "      <td>MARRIAGE</td>\n",
              "      <td>AGE</td>\n",
              "      <td>PAY_0</td>\n",
              "      <td>PAY_2</td>\n",
              "      <td>PAY_3</td>\n",
              "      <td>PAY_4</td>\n",
              "      <td>PAY_5</td>\n",
              "      <td>PAY_6</td>\n",
              "      <td>BILL_AMT1</td>\n",
              "      <td>BILL_AMT2</td>\n",
              "      <td>BILL_AMT3</td>\n",
              "      <td>BILL_AMT4</td>\n",
              "      <td>BILL_AMT5</td>\n",
              "      <td>BILL_AMT6</td>\n",
              "      <td>PAY_AMT1</td>\n",
              "      <td>PAY_AMT2</td>\n",
              "      <td>PAY_AMT3</td>\n",
              "      <td>PAY_AMT4</td>\n",
              "      <td>PAY_AMT5</td>\n",
              "      <td>PAY_AMT6</td>\n",
              "      <td>default payment next month</td>\n",
              "    </tr>\n",
              "    <tr>\n",
              "      <th>1</th>\n",
              "      <td>1</td>\n",
              "      <td>20000</td>\n",
              "      <td>2</td>\n",
              "      <td>2</td>\n",
              "      <td>1</td>\n",
              "      <td>24</td>\n",
              "      <td>2</td>\n",
              "      <td>2</td>\n",
              "      <td>-1</td>\n",
              "      <td>-1</td>\n",
              "      <td>-2</td>\n",
              "      <td>-2</td>\n",
              "      <td>3913</td>\n",
              "      <td>3102</td>\n",
              "      <td>689</td>\n",
              "      <td>0</td>\n",
              "      <td>0</td>\n",
              "      <td>0</td>\n",
              "      <td>0</td>\n",
              "      <td>689</td>\n",
              "      <td>0</td>\n",
              "      <td>0</td>\n",
              "      <td>0</td>\n",
              "      <td>0</td>\n",
              "      <td>1</td>\n",
              "    </tr>\n",
              "    <tr>\n",
              "      <th>2</th>\n",
              "      <td>2</td>\n",
              "      <td>120000</td>\n",
              "      <td>2</td>\n",
              "      <td>2</td>\n",
              "      <td>2</td>\n",
              "      <td>26</td>\n",
              "      <td>-1</td>\n",
              "      <td>2</td>\n",
              "      <td>0</td>\n",
              "      <td>0</td>\n",
              "      <td>0</td>\n",
              "      <td>2</td>\n",
              "      <td>2682</td>\n",
              "      <td>1725</td>\n",
              "      <td>2682</td>\n",
              "      <td>3272</td>\n",
              "      <td>3455</td>\n",
              "      <td>3261</td>\n",
              "      <td>0</td>\n",
              "      <td>1000</td>\n",
              "      <td>1000</td>\n",
              "      <td>1000</td>\n",
              "      <td>0</td>\n",
              "      <td>2000</td>\n",
              "      <td>1</td>\n",
              "    </tr>\n",
              "    <tr>\n",
              "      <th>3</th>\n",
              "      <td>3</td>\n",
              "      <td>90000</td>\n",
              "      <td>2</td>\n",
              "      <td>2</td>\n",
              "      <td>2</td>\n",
              "      <td>34</td>\n",
              "      <td>0</td>\n",
              "      <td>0</td>\n",
              "      <td>0</td>\n",
              "      <td>0</td>\n",
              "      <td>0</td>\n",
              "      <td>0</td>\n",
              "      <td>29239</td>\n",
              "      <td>14027</td>\n",
              "      <td>13559</td>\n",
              "      <td>14331</td>\n",
              "      <td>14948</td>\n",
              "      <td>15549</td>\n",
              "      <td>1518</td>\n",
              "      <td>1500</td>\n",
              "      <td>1000</td>\n",
              "      <td>1000</td>\n",
              "      <td>1000</td>\n",
              "      <td>5000</td>\n",
              "      <td>0</td>\n",
              "    </tr>\n",
              "    <tr>\n",
              "      <th>4</th>\n",
              "      <td>4</td>\n",
              "      <td>50000</td>\n",
              "      <td>2</td>\n",
              "      <td>2</td>\n",
              "      <td>1</td>\n",
              "      <td>37</td>\n",
              "      <td>0</td>\n",
              "      <td>0</td>\n",
              "      <td>0</td>\n",
              "      <td>0</td>\n",
              "      <td>0</td>\n",
              "      <td>0</td>\n",
              "      <td>46990</td>\n",
              "      <td>48233</td>\n",
              "      <td>49291</td>\n",
              "      <td>28314</td>\n",
              "      <td>28959</td>\n",
              "      <td>29547</td>\n",
              "      <td>2000</td>\n",
              "      <td>2019</td>\n",
              "      <td>1200</td>\n",
              "      <td>1100</td>\n",
              "      <td>1069</td>\n",
              "      <td>1000</td>\n",
              "      <td>0</td>\n",
              "    </tr>\n",
              "  </tbody>\n",
              "</table>\n",
              "</div>"
            ],
            "text/plain": [
              "   ID         X1   X2  ...       X22       X23                           Y\n",
              "0  ID  LIMIT_BAL  SEX  ...  PAY_AMT5  PAY_AMT6  default payment next month\n",
              "1   1      20000    2  ...         0         0                           1\n",
              "2   2     120000    2  ...         0      2000                           1\n",
              "3   3      90000    2  ...      1000      5000                           0\n",
              "4   4      50000    2  ...      1069      1000                           0\n",
              "\n",
              "[5 rows x 25 columns]"
            ]
          },
          "metadata": {
            "tags": []
          },
          "execution_count": 56
        }
      ]
    },
    {
      "cell_type": "code",
      "metadata": {
        "id": "aTW0tj9duxga",
        "colab_type": "code",
        "colab": {
          "base_uri": "https://localhost:8080/",
          "height": 476
        },
        "outputId": "5c48d38a-6d73-46a6-f16f-b27bf83c1597"
      },
      "source": [
        "print(\"explaining wthe columns\") \n",
        "print(target_dataset.iloc[0])\n",
        "target_dataset = target_dataset.drop([0], axis=0)"
      ],
      "execution_count": null,
      "outputs": [
        {
          "output_type": "stream",
          "text": [
            "explaining wthe columns\n",
            "ID                             ID\n",
            "X1                      LIMIT_BAL\n",
            "X2                            SEX\n",
            "X3                      EDUCATION\n",
            "X4                       MARRIAGE\n",
            "X5                            AGE\n",
            "X6                          PAY_0\n",
            "X7                          PAY_2\n",
            "X8                          PAY_3\n",
            "X9                          PAY_4\n",
            "X10                         PAY_5\n",
            "X11                         PAY_6\n",
            "X12                     BILL_AMT1\n",
            "X13                     BILL_AMT2\n",
            "X14                     BILL_AMT3\n",
            "X15                     BILL_AMT4\n",
            "X16                     BILL_AMT5\n",
            "X17                     BILL_AMT6\n",
            "X18                      PAY_AMT1\n",
            "X19                      PAY_AMT2\n",
            "X20                      PAY_AMT3\n",
            "X21                      PAY_AMT4\n",
            "X22                      PAY_AMT5\n",
            "X23                      PAY_AMT6\n",
            "Y      default payment next month\n",
            "Name: 0, dtype: object\n"
          ],
          "name": "stdout"
        }
      ]
    },
    {
      "cell_type": "markdown",
      "metadata": {
        "id": "zOZkorrg54KK",
        "colab_type": "text"
      },
      "source": [
        "### Separating features from output variable\n",
        "The dataframe of the target dataset has a column we would like to predict its values (output variable). We need to separate this column from the rest of the dataframe which include the features we want to use to build the model."
      ]
    },
    {
      "cell_type": "code",
      "metadata": {
        "id": "tIsCCKZN542x",
        "colab_type": "code",
        "colab": {
          "base_uri": "https://localhost:8080/",
          "height": 34
        },
        "outputId": "591bec85-d018-4b42-a810-59a100b8e1d4"
      },
      "source": [
        "output_var = target_dataset['Y']\n",
        "input_features = target_dataset[[col for col in target_dataset.columns if 'X' in col]]\n",
        "print('number of features: {}'.format(input_features.shape[0]))\n",
        "\n",
        "target = target_dataset['Y']\n",
        "features = target_dataset.drop(columns={'Y'})"
      ],
      "execution_count": null,
      "outputs": [
        {
          "output_type": "stream",
          "text": [
            "number of features: 30000\n"
          ],
          "name": "stdout"
        }
      ]
    },
    {
      "cell_type": "code",
      "metadata": {
        "id": "f73rBKS_wQgK",
        "colab_type": "code",
        "colab": {
          "base_uri": "https://localhost:8080/",
          "height": 34
        },
        "outputId": "193458dd-9009-4e2f-f63e-4b815eb2f0f4"
      },
      "source": [
        "target.shape\n",
        "features.shape"
      ],
      "execution_count": null,
      "outputs": [
        {
          "output_type": "execute_result",
          "data": {
            "text/plain": [
              "(30000, 24)"
            ]
          },
          "metadata": {
            "tags": []
          },
          "execution_count": 59
        }
      ]
    },
    {
      "cell_type": "markdown",
      "metadata": {
        "id": "5Q_FzHDPmy_x",
        "colab_type": "text"
      },
      "source": [
        "### Checking balance of classes\n",
        "We need to determine if there is a class imbalance in the dataset as it will be important for choosing the metric for the performance assessment."
      ]
    },
    {
      "cell_type": "code",
      "metadata": {
        "id": "TaOfibUQmX2E",
        "colab_type": "code",
        "colab": {
          "base_uri": "https://localhost:8080/",
          "height": 34
        },
        "outputId": "4f718ed7-c404-4f94-9213-1574c1bdf429"
      },
      "source": [
        "from collections import Counter    # checking the count for 1 and zero in the target variable\n",
        "\n",
        "Counter(target)        "
      ],
      "execution_count": null,
      "outputs": [
        {
          "output_type": "execute_result",
          "data": {
            "text/plain": [
              "Counter({'0': 23364, '1': 6636})"
            ]
          },
          "metadata": {
            "tags": []
          },
          "execution_count": 60
        }
      ]
    },
    {
      "cell_type": "code",
      "metadata": {
        "id": "V3L9BbkSg2vp",
        "colab_type": "code",
        "colab": {}
      },
      "source": [
        "# splitinng the data for test train split\n",
        "from sklearn.model_selection import train_test_split\n",
        "\n",
        "X_train, X_test, y_train, y_test = train_test_split(features, target, test_size=0.30, random_state=5)"
      ],
      "execution_count": null,
      "outputs": []
    },
    {
      "cell_type": "code",
      "metadata": {
        "id": "fj3SSteMkxb2",
        "colab_type": "code",
        "colab": {}
      },
      "source": [
        "# model generation\n",
        "from sklearn.model_selection import cross_val_score   # for k fold cross validation\n",
        "from sklearn.linear_model import LogisticRegression \n",
        "from sklearn.naive_bayes import GaussianNB\n",
        "from sklearn.ensemble import RandomForestClassifier \n"
      ],
      "execution_count": null,
      "outputs": []
    },
    {
      "cell_type": "code",
      "metadata": {
        "id": "J_ay_5e61h6a",
        "colab_type": "code",
        "colab": {}
      },
      "source": [
        "# Create logistic regression object\n",
        "rf = RandomForestClassifier(random_state=10)\n",
        "\n",
        "# Create logistic regression object\n",
        "logreg = LogisticRegression(random_state=10)\n",
        "\n",
        "# Create naive Bayes object\n",
        "nb = GaussianNB()\n"
      ],
      "execution_count": null,
      "outputs": []
    },
    {
      "cell_type": "code",
      "metadata": {
        "id": "nQn3IeZu2DRf",
        "colab_type": "code",
        "colab": {}
      },
      "source": [
        "# scores_rf = cross_val_score(rf, X_train, y_train, cv=10)"
      ],
      "execution_count": null,
      "outputs": []
    },
    {
      "cell_type": "code",
      "metadata": {
        "id": "KRs9_JGP2Mqy",
        "colab_type": "code",
        "colab": {}
      },
      "source": [
        "# q = cross_val_score()\n",
        "# scores_rf"
      ],
      "execution_count": null,
      "outputs": []
    },
    {
      "cell_type": "code",
      "metadata": {
        "id": "gSzz7O6w1b2i",
        "colab_type": "code",
        "colab": {}
      },
      "source": [
        "\n",
        "# assessing performance of the model using 10-fold cross validation\n",
        "\n",
        "# considering f1 scores \n",
        "scores_rf = cross_val_score(rf, X_train, y_train, cv=5,scoring='f1_macro' )\n",
        "\n",
        "scores_logreg = cross_val_score(logreg, X_train, y_train, cv=5, scoring='f1_macro')\n",
        "\n",
        "scores_nb = cross_val_score(nb, X_train, y_train, cv=5, scoring='f1_macro')"
      ],
      "execution_count": null,
      "outputs": []
    },
    {
      "cell_type": "code",
      "metadata": {
        "id": "X_tqcelP1rB-",
        "colab_type": "code",
        "colab": {
          "base_uri": "https://localhost:8080/",
          "height": 34
        },
        "outputId": "cca173d3-58d3-4f82-e652-f65bfbad59e1"
      },
      "source": [
        "scores_rf"
      ],
      "execution_count": null,
      "outputs": [
        {
          "output_type": "execute_result",
          "data": {
            "text/plain": [
              "array([0.69012057, 0.67759126, 0.67372507, 0.6928195 , 0.66762124])"
            ]
          },
          "metadata": {
            "tags": []
          },
          "execution_count": 68
        }
      ]
    },
    {
      "cell_type": "code",
      "metadata": {
        "id": "VcA1zklT1q9-",
        "colab_type": "code",
        "colab": {}
      },
      "source": [
        ""
      ],
      "execution_count": null,
      "outputs": []
    },
    {
      "cell_type": "code",
      "metadata": {
        "id": "zHQROZzC1Xzn",
        "colab_type": "code",
        "colab": {
          "base_uri": "https://localhost:8080/",
          "height": 68
        },
        "outputId": "154f888c-4125-4bcf-e3cb-99d0f81d03fb"
      },
      "source": [
        "# average performance across all folds\n",
        "print(\"Average Accuracy of random forest model across the folds: %0.2f\" % (scores_rf.mean()))\n",
        "print(\"Average Accuracy of logistic regression model across the folds: %0.2f\" % (scores_logreg.mean()))\n",
        "print(\"Average Accuracy of naive Bayes model across the folds: %0.2f\" % (scores_nb.mean()))"
      ],
      "execution_count": null,
      "outputs": [
        {
          "output_type": "stream",
          "text": [
            "Average Accuracy of random forest model across the folds: 0.68\n",
            "Average Accuracy of logistic regression model across the folds: 0.44\n",
            "Average Accuracy of naive Bayes model across the folds: 0.38\n"
          ],
          "name": "stdout"
        }
      ]
    },
    {
      "cell_type": "markdown",
      "metadata": {
        "id": "W9PqGFnmlhm0",
        "colab_type": "text"
      },
      "source": [
        "As random forest has higher performance in the cross-validation setting, we use it in the test set to further assess its performance.  "
      ]
    },
    {
      "cell_type": "code",
      "metadata": {
        "id": "KRQpG2vykzqX",
        "colab_type": "code",
        "colab": {}
      },
      "source": [
        "# Let's train the model using all the training set together\n",
        "rf.fit(X_train, y_train)\n",
        "\n",
        "# Make predictions using the testing set\n",
        "y_pred_test = rf.predict(X_test)"
      ],
      "execution_count": null,
      "outputs": []
    },
    {
      "cell_type": "code",
      "metadata": {
        "id": "cAqcUM5Bmb2d",
        "colab_type": "code",
        "colab": {
          "base_uri": "https://localhost:8080/",
          "height": 102
        },
        "outputId": "7b892582-5176-4395-8eba-4e0c5f2c38d1"
      },
      "source": [
        "from sklearn import metrics\n",
        "\n",
        "print(\"\\n\\ncomparing balanced accuracies of the models using the test set\")\n",
        "print(\"blanced accuracy of the predictions using random forest:\", metrics.balanced_accuracy_score(y_test, y_pred_test))\n",
        "print(\"recall of the predictions using random forest:\", metrics.f1_score(y_test, y_pred_test, average='macro'))"
      ],
      "execution_count": null,
      "outputs": [
        {
          "output_type": "stream",
          "text": [
            "\n",
            "\n",
            "comparing balanced accuracies of the models using the test set\n",
            "blanced accuracy of the predictions using random forest: 0.653035178368642\n",
            "recall of the predictions using random forest: 0.6767280177623852\n"
          ],
          "name": "stdout"
        }
      ]
    },
    {
      "cell_type": "markdown",
      "metadata": {
        "id": "ekg8gRIW7OhN",
        "colab_type": "text"
      },
      "source": [
        "# Tuning the model"
      ]
    },
    {
      "cell_type": "code",
      "metadata": {
        "id": "dRsyTOYW7Ox6",
        "colab_type": "code",
        "colab": {
          "base_uri": "https://localhost:8080/",
          "height": 340
        },
        "outputId": "0a4998a0-1e51-4a12-c73a-e95ee7dd2efc"
      },
      "source": [
        "# parameters used in the base model \n",
        "rf.get_params()\n"
      ],
      "execution_count": null,
      "outputs": [
        {
          "output_type": "execute_result",
          "data": {
            "text/plain": [
              "{'bootstrap': True,\n",
              " 'ccp_alpha': 0.0,\n",
              " 'class_weight': None,\n",
              " 'criterion': 'gini',\n",
              " 'max_depth': None,\n",
              " 'max_features': 'auto',\n",
              " 'max_leaf_nodes': None,\n",
              " 'max_samples': None,\n",
              " 'min_impurity_decrease': 0.0,\n",
              " 'min_impurity_split': None,\n",
              " 'min_samples_leaf': 1,\n",
              " 'min_samples_split': 2,\n",
              " 'min_weight_fraction_leaf': 0.0,\n",
              " 'n_estimators': 100,\n",
              " 'n_jobs': None,\n",
              " 'oob_score': False,\n",
              " 'random_state': 10,\n",
              " 'verbose': 0,\n",
              " 'warm_start': False}"
            ]
          },
          "metadata": {
            "tags": []
          },
          "execution_count": 72
        }
      ]
    },
    {
      "cell_type": "code",
      "metadata": {
        "id": "QPI8XIvcBLZI",
        "colab_type": "code",
        "colab": {}
      },
      "source": [
        "# using random searchcv \n",
        "from sklearn.model_selection import RandomizedSearchCV\n",
        "# Number of trees in random forest\n",
        "n_estimators = [int(x) for x in np.linspace(start = 200, stop = 2000, num = 5)]\n",
        "# Number of features to consider at every split\n",
        "# max_features = ['auto', 'sqrt']\n",
        "# Maximum number of levels in tree\n",
        "max_depth = [int(round(x)) for x in np.linspace(10, 110, num = 6)]\n",
        "max_depth.append(None)\n",
        "# Minimum number of samples required to split a node\n",
        "# min_samples_split = [2, 5, 10]\n",
        "# Minimum number of samples required at each leaf node\n",
        "# min_samples_leaf = [1, 2, 4]/\n",
        "# Method of selecting samples for training each tree\n",
        "# bootstrap = [True, False]\n",
        "# Create the random grid\n",
        "# random_grid = {'n_estimators': n_estimators,\n",
        "#                'max_features': max_features,\n",
        "#                'max_depth': max_depth,\n",
        "#                'min_samples_split': min_samples_split,\n",
        "#                'min_samples_leaf': min_samples_leaf,\n",
        "#                'bootstrap': bootstrap}\n",
        "random_grid = {'n_estimators': n_estimators, \n",
        "               'max_depth': max_depth,\n",
        "            }"
      ],
      "execution_count": null,
      "outputs": []
    },
    {
      "cell_type": "code",
      "metadata": {
        "id": "xOW-HUyEBL7B",
        "colab_type": "code",
        "colab": {
          "base_uri": "https://localhost:8080/",
          "height": 1000
        },
        "outputId": "a8c046c8-c908-47d0-da58-0dfc9c4ea9fb"
      },
      "source": [
        "# Use the random grid to search for best hyperparameters\n",
        "\n",
        "# Random search of parameters, using 3 fold cross validation, \n",
        "# search across 100 different combinations, and use all available cores\n",
        "rf_random = RandomizedSearchCV(estimator = rf, param_distributions = random_grid, n_iter = 100, cv = 3, verbose=2, random_state=42)\n",
        "# Fit the random search model\n",
        "rf_random.fit(X_train, y_train)"
      ],
      "execution_count": null,
      "outputs": [
        {
          "output_type": "stream",
          "text": [
            "Fitting 3 folds for each of 35 candidates, totalling 105 fits\n",
            "[CV] n_estimators=200, max_depth=10 ..................................\n"
          ],
          "name": "stdout"
        },
        {
          "output_type": "stream",
          "text": [
            "[Parallel(n_jobs=1)]: Using backend SequentialBackend with 1 concurrent workers.\n"
          ],
          "name": "stderr"
        },
        {
          "output_type": "stream",
          "text": [
            "[CV] ................... n_estimators=200, max_depth=10, total=   5.2s\n",
            "[CV] n_estimators=200, max_depth=10 ..................................\n"
          ],
          "name": "stdout"
        },
        {
          "output_type": "stream",
          "text": [
            "[Parallel(n_jobs=1)]: Done   1 out of   1 | elapsed:    5.2s remaining:    0.0s\n"
          ],
          "name": "stderr"
        },
        {
          "output_type": "stream",
          "text": [
            "[CV] ................... n_estimators=200, max_depth=10, total=   5.2s\n",
            "[CV] n_estimators=200, max_depth=10 ..................................\n",
            "[CV] ................... n_estimators=200, max_depth=10, total=   5.2s\n",
            "[CV] n_estimators=650, max_depth=10 ..................................\n",
            "[CV] ................... n_estimators=650, max_depth=10, total=  16.7s\n",
            "[CV] n_estimators=650, max_depth=10 ..................................\n",
            "[CV] ................... n_estimators=650, max_depth=10, total=  16.6s\n",
            "[CV] n_estimators=650, max_depth=10 ..................................\n",
            "[CV] ................... n_estimators=650, max_depth=10, total=  16.6s\n",
            "[CV] n_estimators=1100, max_depth=10 .................................\n",
            "[CV] .................. n_estimators=1100, max_depth=10, total=  28.0s\n",
            "[CV] n_estimators=1100, max_depth=10 .................................\n",
            "[CV] .................. n_estimators=1100, max_depth=10, total=  28.1s\n",
            "[CV] n_estimators=1100, max_depth=10 .................................\n",
            "[CV] .................. n_estimators=1100, max_depth=10, total=  28.0s\n",
            "[CV] n_estimators=1550, max_depth=10 .................................\n",
            "[CV] .................. n_estimators=1550, max_depth=10, total=  39.7s\n",
            "[CV] n_estimators=1550, max_depth=10 .................................\n",
            "[CV] .................. n_estimators=1550, max_depth=10, total=  39.6s\n",
            "[CV] n_estimators=1550, max_depth=10 .................................\n",
            "[CV] .................. n_estimators=1550, max_depth=10, total=  39.6s\n",
            "[CV] n_estimators=2000, max_depth=10 .................................\n",
            "[CV] .................. n_estimators=2000, max_depth=10, total=  51.1s\n",
            "[CV] n_estimators=2000, max_depth=10 .................................\n",
            "[CV] .................. n_estimators=2000, max_depth=10, total=  54.2s\n",
            "[CV] n_estimators=2000, max_depth=10 .................................\n",
            "[CV] .................. n_estimators=2000, max_depth=10, total=  51.1s\n",
            "[CV] n_estimators=200, max_depth=30 ..................................\n",
            "[CV] ................... n_estimators=200, max_depth=30, total=   8.5s\n",
            "[CV] n_estimators=200, max_depth=30 ..................................\n",
            "[CV] ................... n_estimators=200, max_depth=30, total=   8.5s\n",
            "[CV] n_estimators=200, max_depth=30 ..................................\n",
            "[CV] ................... n_estimators=200, max_depth=30, total=   8.5s\n",
            "[CV] n_estimators=650, max_depth=30 ..................................\n",
            "[CV] ................... n_estimators=650, max_depth=30, total=  27.5s\n",
            "[CV] n_estimators=650, max_depth=30 ..................................\n",
            "[CV] ................... n_estimators=650, max_depth=30, total=  27.2s\n",
            "[CV] n_estimators=650, max_depth=30 ..................................\n",
            "[CV] ................... n_estimators=650, max_depth=30, total=  27.2s\n",
            "[CV] n_estimators=1100, max_depth=30 .................................\n",
            "[CV] .................. n_estimators=1100, max_depth=30, total=  46.6s\n",
            "[CV] n_estimators=1100, max_depth=30 .................................\n",
            "[CV] .................. n_estimators=1100, max_depth=30, total=  46.0s\n",
            "[CV] n_estimators=1100, max_depth=30 .................................\n",
            "[CV] .................. n_estimators=1100, max_depth=30, total=  45.7s\n",
            "[CV] n_estimators=1550, max_depth=30 .................................\n",
            "[CV] .................. n_estimators=1550, max_depth=30, total= 1.1min\n",
            "[CV] n_estimators=1550, max_depth=30 .................................\n",
            "[CV] .................. n_estimators=1550, max_depth=30, total= 1.1min\n",
            "[CV] n_estimators=1550, max_depth=30 .................................\n",
            "[CV] .................. n_estimators=1550, max_depth=30, total= 1.1min\n",
            "[CV] n_estimators=2000, max_depth=30 .................................\n",
            "[CV] .................. n_estimators=2000, max_depth=30, total= 1.4min\n",
            "[CV] n_estimators=2000, max_depth=30 .................................\n",
            "[CV] .................. n_estimators=2000, max_depth=30, total= 1.4min\n",
            "[CV] n_estimators=2000, max_depth=30 .................................\n",
            "[CV] .................. n_estimators=2000, max_depth=30, total= 1.4min\n",
            "[CV] n_estimators=200, max_depth=50 ..................................\n",
            "[CV] ................... n_estimators=200, max_depth=50, total=   8.6s\n",
            "[CV] n_estimators=200, max_depth=50 ..................................\n",
            "[CV] ................... n_estimators=200, max_depth=50, total=   8.4s\n",
            "[CV] n_estimators=200, max_depth=50 ..................................\n",
            "[CV] ................... n_estimators=200, max_depth=50, total=   8.4s\n",
            "[CV] n_estimators=650, max_depth=50 ..................................\n",
            "[CV] ................... n_estimators=650, max_depth=50, total=  27.5s\n",
            "[CV] n_estimators=650, max_depth=50 ..................................\n",
            "[CV] ................... n_estimators=650, max_depth=50, total=  27.5s\n",
            "[CV] n_estimators=650, max_depth=50 ..................................\n",
            "[CV] ................... n_estimators=650, max_depth=50, total=  27.1s\n",
            "[CV] n_estimators=1100, max_depth=50 .................................\n",
            "[CV] .................. n_estimators=1100, max_depth=50, total=  46.4s\n",
            "[CV] n_estimators=1100, max_depth=50 .................................\n",
            "[CV] .................. n_estimators=1100, max_depth=50, total=  46.0s\n",
            "[CV] n_estimators=1100, max_depth=50 .................................\n",
            "[CV] .................. n_estimators=1100, max_depth=50, total=  46.3s\n",
            "[CV] n_estimators=1550, max_depth=50 .................................\n",
            "[CV] .................. n_estimators=1550, max_depth=50, total= 1.1min\n",
            "[CV] n_estimators=1550, max_depth=50 .................................\n",
            "[CV] .................. n_estimators=1550, max_depth=50, total= 1.1min\n",
            "[CV] n_estimators=1550, max_depth=50 .................................\n",
            "[CV] .................. n_estimators=1550, max_depth=50, total= 1.1min\n",
            "[CV] n_estimators=2000, max_depth=50 .................................\n",
            "[CV] .................. n_estimators=2000, max_depth=50, total= 1.4min\n",
            "[CV] n_estimators=2000, max_depth=50 .................................\n",
            "[CV] .................. n_estimators=2000, max_depth=50, total= 1.4min\n",
            "[CV] n_estimators=2000, max_depth=50 .................................\n",
            "[CV] .................. n_estimators=2000, max_depth=50, total= 1.4min\n",
            "[CV] n_estimators=200, max_depth=70 ..................................\n",
            "[CV] ................... n_estimators=200, max_depth=70, total=   8.5s\n",
            "[CV] n_estimators=200, max_depth=70 ..................................\n",
            "[CV] ................... n_estimators=200, max_depth=70, total=   8.4s\n",
            "[CV] n_estimators=200, max_depth=70 ..................................\n",
            "[CV] ................... n_estimators=200, max_depth=70, total=   8.4s\n",
            "[CV] n_estimators=650, max_depth=70 ..................................\n",
            "[CV] ................... n_estimators=650, max_depth=70, total=  27.6s\n",
            "[CV] n_estimators=650, max_depth=70 ..................................\n",
            "[CV] ................... n_estimators=650, max_depth=70, total=  27.3s\n",
            "[CV] n_estimators=650, max_depth=70 ..................................\n",
            "[CV] ................... n_estimators=650, max_depth=70, total=  27.2s\n",
            "[CV] n_estimators=1100, max_depth=70 .................................\n",
            "[CV] .................. n_estimators=1100, max_depth=70, total=  46.5s\n",
            "[CV] n_estimators=1100, max_depth=70 .................................\n",
            "[CV] .................. n_estimators=1100, max_depth=70, total=  46.0s\n",
            "[CV] n_estimators=1100, max_depth=70 .................................\n",
            "[CV] .................. n_estimators=1100, max_depth=70, total=  46.1s\n",
            "[CV] n_estimators=1550, max_depth=70 .................................\n",
            "[CV] .................. n_estimators=1550, max_depth=70, total= 1.1min\n",
            "[CV] n_estimators=1550, max_depth=70 .................................\n",
            "[CV] .................. n_estimators=1550, max_depth=70, total= 1.1min\n",
            "[CV] n_estimators=1550, max_depth=70 .................................\n",
            "[CV] .................. n_estimators=1550, max_depth=70, total= 1.1min\n",
            "[CV] n_estimators=2000, max_depth=70 .................................\n",
            "[CV] .................. n_estimators=2000, max_depth=70, total= 1.4min\n",
            "[CV] n_estimators=2000, max_depth=70 .................................\n",
            "[CV] .................. n_estimators=2000, max_depth=70, total= 1.4min\n",
            "[CV] n_estimators=2000, max_depth=70 .................................\n",
            "[CV] .................. n_estimators=2000, max_depth=70, total= 1.4min\n",
            "[CV] n_estimators=200, max_depth=90 ..................................\n",
            "[CV] ................... n_estimators=200, max_depth=90, total=   8.6s\n",
            "[CV] n_estimators=200, max_depth=90 ..................................\n",
            "[CV] ................... n_estimators=200, max_depth=90, total=   8.5s\n",
            "[CV] n_estimators=200, max_depth=90 ..................................\n",
            "[CV] ................... n_estimators=200, max_depth=90, total=   8.5s\n",
            "[CV] n_estimators=650, max_depth=90 ..................................\n",
            "[CV] ................... n_estimators=650, max_depth=90, total=  27.8s\n",
            "[CV] n_estimators=650, max_depth=90 ..................................\n",
            "[CV] ................... n_estimators=650, max_depth=90, total=  27.4s\n",
            "[CV] n_estimators=650, max_depth=90 ..................................\n",
            "[CV] ................... n_estimators=650, max_depth=90, total=  27.3s\n",
            "[CV] n_estimators=1100, max_depth=90 .................................\n",
            "[CV] .................. n_estimators=1100, max_depth=90, total=  47.0s\n",
            "[CV] n_estimators=1100, max_depth=90 .................................\n",
            "[CV] .................. n_estimators=1100, max_depth=90, total=  46.0s\n",
            "[CV] n_estimators=1100, max_depth=90 .................................\n",
            "[CV] .................. n_estimators=1100, max_depth=90, total=  46.0s\n",
            "[CV] n_estimators=1550, max_depth=90 .................................\n",
            "[CV] .................. n_estimators=1550, max_depth=90, total= 1.1min\n",
            "[CV] n_estimators=1550, max_depth=90 .................................\n",
            "[CV] .................. n_estimators=1550, max_depth=90, total= 1.1min\n",
            "[CV] n_estimators=1550, max_depth=90 .................................\n",
            "[CV] .................. n_estimators=1550, max_depth=90, total= 1.1min\n",
            "[CV] n_estimators=2000, max_depth=90 .................................\n",
            "[CV] .................. n_estimators=2000, max_depth=90, total= 1.4min\n",
            "[CV] n_estimators=2000, max_depth=90 .................................\n",
            "[CV] .................. n_estimators=2000, max_depth=90, total= 1.4min\n",
            "[CV] n_estimators=2000, max_depth=90 .................................\n",
            "[CV] .................. n_estimators=2000, max_depth=90, total= 1.4min\n",
            "[CV] n_estimators=200, max_depth=110 .................................\n",
            "[CV] .................. n_estimators=200, max_depth=110, total=   8.5s\n",
            "[CV] n_estimators=200, max_depth=110 .................................\n",
            "[CV] .................. n_estimators=200, max_depth=110, total=   8.5s\n",
            "[CV] n_estimators=200, max_depth=110 .................................\n",
            "[CV] .................. n_estimators=200, max_depth=110, total=   8.4s\n",
            "[CV] n_estimators=650, max_depth=110 .................................\n",
            "[CV] .................. n_estimators=650, max_depth=110, total=  27.5s\n",
            "[CV] n_estimators=650, max_depth=110 .................................\n",
            "[CV] .................. n_estimators=650, max_depth=110, total=  27.3s\n",
            "[CV] n_estimators=650, max_depth=110 .................................\n",
            "[CV] .................. n_estimators=650, max_depth=110, total=  27.2s\n",
            "[CV] n_estimators=1100, max_depth=110 ................................\n",
            "[CV] ................. n_estimators=1100, max_depth=110, total=  46.6s\n",
            "[CV] n_estimators=1100, max_depth=110 ................................\n",
            "[CV] ................. n_estimators=1100, max_depth=110, total=  49.4s\n",
            "[CV] n_estimators=1100, max_depth=110 ................................\n",
            "[CV] ................. n_estimators=1100, max_depth=110, total=  45.9s\n",
            "[CV] n_estimators=1550, max_depth=110 ................................\n",
            "[CV] ................. n_estimators=1550, max_depth=110, total= 1.1min\n",
            "[CV] n_estimators=1550, max_depth=110 ................................\n",
            "[CV] ................. n_estimators=1550, max_depth=110, total= 1.1min\n",
            "[CV] n_estimators=1550, max_depth=110 ................................\n",
            "[CV] ................. n_estimators=1550, max_depth=110, total= 1.1min\n",
            "[CV] n_estimators=2000, max_depth=110 ................................\n",
            "[CV] ................. n_estimators=2000, max_depth=110, total= 1.4min\n",
            "[CV] n_estimators=2000, max_depth=110 ................................\n",
            "[CV] ................. n_estimators=2000, max_depth=110, total= 1.4min\n",
            "[CV] n_estimators=2000, max_depth=110 ................................\n",
            "[CV] ................. n_estimators=2000, max_depth=110, total= 1.4min\n",
            "[CV] n_estimators=200, max_depth=None ................................\n",
            "[CV] ................. n_estimators=200, max_depth=None, total=   8.5s\n",
            "[CV] n_estimators=200, max_depth=None ................................\n",
            "[CV] ................. n_estimators=200, max_depth=None, total=   8.5s\n",
            "[CV] n_estimators=200, max_depth=None ................................\n",
            "[CV] ................. n_estimators=200, max_depth=None, total=   8.4s\n",
            "[CV] n_estimators=650, max_depth=None ................................\n",
            "[CV] ................. n_estimators=650, max_depth=None, total=  27.7s\n",
            "[CV] n_estimators=650, max_depth=None ................................\n",
            "[CV] ................. n_estimators=650, max_depth=None, total=  27.4s\n",
            "[CV] n_estimators=650, max_depth=None ................................\n",
            "[CV] ................. n_estimators=650, max_depth=None, total=  30.5s\n",
            "[CV] n_estimators=1100, max_depth=None ...............................\n",
            "[CV] ................ n_estimators=1100, max_depth=None, total=  46.5s\n",
            "[CV] n_estimators=1100, max_depth=None ...............................\n",
            "[CV] ................ n_estimators=1100, max_depth=None, total=  46.1s\n",
            "[CV] n_estimators=1100, max_depth=None ...............................\n",
            "[CV] ................ n_estimators=1100, max_depth=None, total=  46.1s\n",
            "[CV] n_estimators=1550, max_depth=None ...............................\n",
            "[CV] ................ n_estimators=1550, max_depth=None, total= 1.1min\n",
            "[CV] n_estimators=1550, max_depth=None ...............................\n",
            "[CV] ................ n_estimators=1550, max_depth=None, total= 1.1min\n",
            "[CV] n_estimators=1550, max_depth=None ...............................\n",
            "[CV] ................ n_estimators=1550, max_depth=None, total= 1.1min\n",
            "[CV] n_estimators=2000, max_depth=None ...............................\n",
            "[CV] ................ n_estimators=2000, max_depth=None, total= 1.4min\n",
            "[CV] n_estimators=2000, max_depth=None ...............................\n",
            "[CV] ................ n_estimators=2000, max_depth=None, total= 1.4min\n",
            "[CV] n_estimators=2000, max_depth=None ...............................\n",
            "[CV] ................ n_estimators=2000, max_depth=None, total= 1.4min\n"
          ],
          "name": "stdout"
        },
        {
          "output_type": "stream",
          "text": [
            "[Parallel(n_jobs=1)]: Done 105 out of 105 | elapsed: 76.8min finished\n"
          ],
          "name": "stderr"
        },
        {
          "output_type": "execute_result",
          "data": {
            "text/plain": [
              "RandomizedSearchCV(cv=3, error_score=nan,\n",
              "                   estimator=RandomForestClassifier(bootstrap=True,\n",
              "                                                    ccp_alpha=0.0,\n",
              "                                                    class_weight=None,\n",
              "                                                    criterion='gini',\n",
              "                                                    max_depth=None,\n",
              "                                                    max_features='auto',\n",
              "                                                    max_leaf_nodes=None,\n",
              "                                                    max_samples=None,\n",
              "                                                    min_impurity_decrease=0.0,\n",
              "                                                    min_impurity_split=None,\n",
              "                                                    min_samples_leaf=1,\n",
              "                                                    min_samples_split=2,\n",
              "                                                    min_weight_fraction_leaf=0.0,\n",
              "                                                    n_estimators=100,\n",
              "                                                    n_jobs=None,\n",
              "                                                    oob_score=False,\n",
              "                                                    random_state=10, verbose=0,\n",
              "                                                    warm_start=False),\n",
              "                   iid='deprecated', n_iter=100, n_jobs=None,\n",
              "                   param_distributions={'max_depth': [10, 30, 50, 70, 90, 110,\n",
              "                                                      None],\n",
              "                                        'n_estimators': [200, 650, 1100, 1550,\n",
              "                                                         2000]},\n",
              "                   pre_dispatch='2*n_jobs', random_state=42, refit=True,\n",
              "                   return_train_score=False, scoring=None, verbose=2)"
            ]
          },
          "metadata": {
            "tags": []
          },
          "execution_count": 77
        }
      ]
    },
    {
      "cell_type": "code",
      "metadata": {
        "id": "ztjJvJS0pdGc",
        "colab_type": "code",
        "colab": {}
      },
      "source": [
        ""
      ],
      "execution_count": null,
      "outputs": []
    },
    {
      "cell_type": "code",
      "metadata": {
        "id": "7msjRtiTBL4m",
        "colab_type": "code",
        "colab": {
          "base_uri": "https://localhost:8080/",
          "height": 34
        },
        "outputId": "61705b6b-2da6-41f2-9a9c-d0b1f24016dc"
      },
      "source": [
        "rf_random.best_params_  #  checking the best parameters"
      ],
      "execution_count": null,
      "outputs": [
        {
          "output_type": "execute_result",
          "data": {
            "text/plain": [
              "{'max_depth': 10, 'n_estimators': 1550}"
            ]
          },
          "metadata": {
            "tags": []
          },
          "execution_count": 80
        }
      ]
    },
    {
      "cell_type": "code",
      "metadata": {
        "id": "WFp-OPtWBL2D",
        "colab_type": "code",
        "colab": {}
      },
      "source": [
        "# defining function to check the accuracy\n",
        "\n",
        "def evaluate(model, X_test, y_test):\n",
        "    predictions = model.predict(X_test)\n",
        "    errors = abs(predictions - y_test)\n",
        "    mape = 100 * np.mean(errors / y_test)\n",
        "    accuracy = 100 - mape\n",
        "    print('Model Performance')\n",
        "    print('Average Error: {:0.4f} degrees.'.format(np.mean(errors)))\n",
        "    print('Accuracy = {:0.2f}%.'.format(accuracy))\n",
        "    \n",
        "    return accuracy"
      ],
      "execution_count": null,
      "outputs": []
    },
    {
      "cell_type": "code",
      "metadata": {
        "id": "GjtkcOUehJwD",
        "colab_type": "code",
        "colab": {}
      },
      "source": [
        ""
      ],
      "execution_count": null,
      "outputs": []
    },
    {
      "cell_type": "code",
      "metadata": {
        "id": "enXJ2g6DBLw4",
        "colab_type": "code",
        "colab": {
          "base_uri": "https://localhost:8080/",
          "height": 153
        },
        "outputId": "274b84a3-3c99-4764-efa1-02301441acf7"
      },
      "source": [
        "base_model = RandomForestClassifier(random_state = 10)\n",
        "base_model.fit(X_train,y_train)\n",
        "# base_accuracy = evaluate(base_model, X_test, y_test)"
      ],
      "execution_count": null,
      "outputs": [
        {
          "output_type": "execute_result",
          "data": {
            "text/plain": [
              "RandomForestClassifier(bootstrap=True, ccp_alpha=0.0, class_weight=None,\n",
              "                       criterion='gini', max_depth=None, max_features='auto',\n",
              "                       max_leaf_nodes=None, max_samples=None,\n",
              "                       min_impurity_decrease=0.0, min_impurity_split=None,\n",
              "                       min_samples_leaf=1, min_samples_split=2,\n",
              "                       min_weight_fraction_leaf=0.0, n_estimators=100,\n",
              "                       n_jobs=None, oob_score=False, random_state=10, verbose=0,\n",
              "                       warm_start=False)"
            ]
          },
          "metadata": {
            "tags": []
          },
          "execution_count": 89
        }
      ]
    },
    {
      "cell_type": "code",
      "metadata": {
        "id": "MnFYBDc5BLqF",
        "colab_type": "code",
        "colab": {}
      },
      "source": [
        "best_random = rf_random.best_estimator_\n",
        "# random_accuracy = evaluate(best_random, X_test, y_test)"
      ],
      "execution_count": null,
      "outputs": []
    },
    {
      "cell_type": "code",
      "metadata": {
        "id": "RiSCnVRBBLnU",
        "colab_type": "code",
        "colab": {}
      },
      "source": [
        "print('Improvement of {:0.2f}%.'.format( 100 * (random_accuracy - base_accuracy) / base_accuracy))"
      ],
      "execution_count": null,
      "outputs": []
    },
    {
      "cell_type": "code",
      "metadata": {
        "id": "8LQb7c16BLjq",
        "colab_type": "code",
        "colab": {}
      },
      "source": [
        "# now applying gridseach based on the best parameters found from the random searchcv \n",
        "\n",
        "\n",
        "from sklearn.model_selection import GridSearchCV\n",
        "\n",
        "param_grid = {\n",
        "    'max_depth': [5,10,15],\n",
        "    'n_estimators': [1500,1550,1600]\n",
        "}\n",
        "\n",
        "# {'max_depth': 10, 'n_estimators': 1550}"
      ],
      "execution_count": null,
      "outputs": []
    },
    {
      "cell_type": "code",
      "metadata": {
        "id": "hB3DeSjLKFA4",
        "colab_type": "code",
        "colab": {}
      },
      "source": [
        "rf = RandomForestClassifier()\n",
        "# Instantiate the grid search model\n",
        "grid_search = GridSearchCV(estimator = rf, param_grid = param_grid, \n",
        "                          cv = 3, n_jobs = -1, verbose = 2)\n"
      ],
      "execution_count": null,
      "outputs": []
    },
    {
      "cell_type": "code",
      "metadata": {
        "id": "4j5nzmIQgtgm",
        "colab_type": "code",
        "colab": {}
      },
      "source": [
        "# X_test"
      ],
      "execution_count": null,
      "outputs": []
    },
    {
      "cell_type": "code",
      "metadata": {
        "id": "5GuG8QPqKK8l",
        "colab_type": "code",
        "colab": {
          "base_uri": "https://localhost:8080/",
          "height": 85
        },
        "outputId": "1c34be31-ff57-4e21-8ef6-2b8d78311fee"
      },
      "source": [
        "# Fit the grid search to the data\n",
        "grid_search.fit(X_train,y_train)\n",
        "grid_search.best_params_\n",
        "\n"
      ],
      "execution_count": null,
      "outputs": [
        {
          "output_type": "stream",
          "text": [
            "Fitting 3 folds for each of 9 candidates, totalling 27 fits\n"
          ],
          "name": "stdout"
        },
        {
          "output_type": "stream",
          "text": [
            "[Parallel(n_jobs=-1)]: Using backend LokyBackend with 2 concurrent workers.\n",
            "[Parallel(n_jobs=-1)]: Done  27 out of  27 | elapsed: 13.0min finished\n"
          ],
          "name": "stderr"
        },
        {
          "output_type": "execute_result",
          "data": {
            "text/plain": [
              "{'max_depth': 10, 'n_estimators': 1500}"
            ]
          },
          "metadata": {
            "tags": []
          },
          "execution_count": 97
        }
      ]
    },
    {
      "cell_type": "code",
      "metadata": {
        "id": "ewZqGNGliu33",
        "colab_type": "code",
        "colab": {
          "base_uri": "https://localhost:8080/",
          "height": 180
        },
        "outputId": "775dc0a5-e776-4445-d207-87ae983cae1d"
      },
      "source": [
        "best_grid = grid_search.best_estimator_\n",
        "# grid_accuracy = evaluate(best_grid, X_test, y_test)/"
      ],
      "execution_count": null,
      "outputs": [
        {
          "output_type": "error",
          "ename": "NameError",
          "evalue": "ignored",
          "traceback": [

          ]
        }
      ]
    },
    {
      "cell_type": "code",
      "metadata": {
        "id": "6FNqpB_p35jy",
        "colab_type": "code",
        "colab": {}
      },
      "source": [
        ""
      ],
      "execution_count": null,
      "outputs": []
    },
    {
      "cell_type": "code",
      "metadata": {
        "id": "aOzV1YdQ4MIR",
        "colab_type": "code",
        "colab": {}
      },
      "source": [
        ""
      ],
      "execution_count": null,
      "outputs": []
    },
    {
      "cell_type": "code",
      "metadata": {
        "id": "MOEENgyU4a2N",
        "colab_type": "code",
        "colab": {}
      },
      "source": [
        ""
      ],
      "execution_count": null,
      "outputs": []
    }
  ]
}
